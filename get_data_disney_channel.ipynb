{
 "cells": [
  {
   "cell_type": "code",
   "execution_count": 2,
   "metadata": {},
   "outputs": [],
   "source": [
    "import os\n",
    "from dotenv import load_dotenv\n",
    "import pandas as pd\n",
    "import numpy as np\n",
    "import requests\n",
    "from bs4 import BeautifulSoup\n",
    "from RequestGuard import RequestGuard as RG"
   ]
  },
  {
   "cell_type": "code",
   "execution_count": 3,
   "metadata": {},
   "outputs": [
    {
     "name": "stdout",
     "output_type": "stream",
     "text": [
      "robot.txt allows scraping for this page\n"
     ]
    }
   ],
   "source": [
    "url = \"https://www.boxofficemojo.com/brand/bn3446864386/\"\n",
    "rg = RG(url)\n",
    "if rg.can_follow_link(url):\n",
    "    print(\"robot.txt allows scraping for this page\") "
   ]
  },
  {
   "cell_type": "code",
   "execution_count": 4,
   "metadata": {},
   "outputs": [
    {
     "name": "stdout",
     "output_type": "stream",
     "text": [
      "200\n"
     ]
    }
   ],
   "source": [
    "r = requests.get(url)\n",
    "print(r.status_code)"
   ]
  },
  {
   "cell_type": "code",
   "execution_count": 5,
   "metadata": {},
   "outputs": [],
   "source": [
    "soup = BeautifulSoup(r.text)\n",
    "# print(soup)\n",
    "container = soup.find('div', {'class': 'a-section imdb-scroll-table mojo-gutter'})\n",
    "# print(container)"
   ]
  },
  {
   "cell_type": "code",
   "execution_count": 6,
   "metadata": {},
   "outputs": [],
   "source": [
    "items = container.find_all('tr')\n",
    "ranks, titles, gross, max_theaters, opening_earnings, opening_num_thtrs, release_dates, studios = [], [], [], [], [], [], [], []\n",
    "for row in items[1:]:\n",
    "    rank = row.find('td', class_='mojo-field-type-rank').text\n",
    "    ranks.append(rank)\n",
    "    title = row.find('td', class_='mojo-field-type-release').text\n",
    "    titles.append(title)\n",
    "    life_gross = row.find('td', class_='a-text-right mojo-field-type-money mojo-sort-column mojo-estimatable').text\n",
    "    gross.append(life_gross)\n",
    "    max_theater = row.find('td', class_='a-text-right mojo-field-type-positive_integer').text\n",
    "    max_theaters.append(max_theater)\n",
    "    opening = row.find('td', class_='a-text-right mojo-field-type-money').text\n",
    "    opening_earnings.append(opening)\n",
    "    opening_num_thtr = row.find('td', class_='a-text-right mojo-field-type-positive_integer').text\n",
    "    opening_num_thtrs.append(opening_num_thtr)\n",
    "    release_date = row.find('td', class_='mojo-field-type-date').text\n",
    "    release_dates.append(release_date)\n",
    "    studio = row.find('td', class_='mojo-field-type-release_studios').text.strip('\\n')\n",
    "    studios.append(studio)"
   ]
  },
  {
   "cell_type": "code",
   "execution_count": 7,
   "metadata": {},
   "outputs": [
    {
     "data": {
      "text/html": [
       "<div>\n",
       "<style scoped>\n",
       "    .dataframe tbody tr th:only-of-type {\n",
       "        vertical-align: middle;\n",
       "    }\n",
       "\n",
       "    .dataframe tbody tr th {\n",
       "        vertical-align: top;\n",
       "    }\n",
       "\n",
       "    .dataframe thead th {\n",
       "        text-align: right;\n",
       "    }\n",
       "</style>\n",
       "<table border=\"1\" class=\"dataframe\">\n",
       "  <thead>\n",
       "    <tr style=\"text-align: right;\">\n",
       "      <th></th>\n",
       "      <th>Rank</th>\n",
       "      <th>Title</th>\n",
       "      <th>Gross Income</th>\n",
       "      <th>Max Theaters</th>\n",
       "      <th>Opening Earnings</th>\n",
       "      <th>Opening Num Theaters</th>\n",
       "      <th>Release Dates</th>\n",
       "      <th>Studio</th>\n",
       "    </tr>\n",
       "  </thead>\n",
       "  <tbody>\n",
       "    <tr>\n",
       "      <th>0</th>\n",
       "      <td>1</td>\n",
       "      <td>High School Musical 3: Senior Year</td>\n",
       "      <td>$90,559,416</td>\n",
       "      <td>3,626</td>\n",
       "      <td>$42,030,184</td>\n",
       "      <td>3,626</td>\n",
       "      <td>Oct 24, 2008</td>\n",
       "      <td>Walt Disney Studios Motion Pictures</td>\n",
       "    </tr>\n",
       "    <tr>\n",
       "      <th>1</th>\n",
       "      <td>2</td>\n",
       "      <td>Hannah Montana: The Movie</td>\n",
       "      <td>$79,576,189</td>\n",
       "      <td>3,231</td>\n",
       "      <td>$32,324,487</td>\n",
       "      <td>3,231</td>\n",
       "      <td>Apr 10, 2009</td>\n",
       "      <td>Walt Disney Studios Motion Pictures</td>\n",
       "    </tr>\n",
       "    <tr>\n",
       "      <th>2</th>\n",
       "      <td>3</td>\n",
       "      <td>Hannah Montana and Miley Cyrus: Best of Both W...</td>\n",
       "      <td>$65,281,781</td>\n",
       "      <td>687</td>\n",
       "      <td>$31,117,834</td>\n",
       "      <td>687</td>\n",
       "      <td>Feb 1, 2008</td>\n",
       "      <td>Walt Disney Studios Motion Pictures</td>\n",
       "    </tr>\n",
       "    <tr>\n",
       "      <th>3</th>\n",
       "      <td>4</td>\n",
       "      <td>The Lizzie McGuire Movie</td>\n",
       "      <td>$42,734,455</td>\n",
       "      <td>2,825</td>\n",
       "      <td>$17,338,755</td>\n",
       "      <td>2,825</td>\n",
       "      <td>May 2, 2003</td>\n",
       "      <td>Walt Disney Studios Motion Pictures</td>\n",
       "    </tr>\n",
       "    <tr>\n",
       "      <th>4</th>\n",
       "      <td>5</td>\n",
       "      <td>Recess: School's Out</td>\n",
       "      <td>$36,706,141</td>\n",
       "      <td>2,630</td>\n",
       "      <td>$10,065,873</td>\n",
       "      <td>2,630</td>\n",
       "      <td>Feb 16, 2001</td>\n",
       "      <td>Walt Disney Studios Motion Pictures</td>\n",
       "    </tr>\n",
       "    <tr>\n",
       "      <th>5</th>\n",
       "      <td>6</td>\n",
       "      <td>Doug's 1st Movie</td>\n",
       "      <td>$19,440,089</td>\n",
       "      <td>2,268</td>\n",
       "      <td>$4,470,489</td>\n",
       "      <td>2,268</td>\n",
       "      <td>Mar 26, 1999</td>\n",
       "      <td>Walt Disney Studios Motion Pictures</td>\n",
       "    </tr>\n",
       "    <tr>\n",
       "      <th>6</th>\n",
       "      <td>7</td>\n",
       "      <td>Jonas Brothers: The 3D Concert Experience</td>\n",
       "      <td>$19,162,740</td>\n",
       "      <td>1,276</td>\n",
       "      <td>$12,510,374</td>\n",
       "      <td>1,276</td>\n",
       "      <td>Feb 27, 2009</td>\n",
       "      <td>Walt Disney Studios Motion Pictures</td>\n",
       "    </tr>\n",
       "    <tr>\n",
       "      <th>7</th>\n",
       "      <td>8</td>\n",
       "      <td>Teacher's Pet</td>\n",
       "      <td>$6,491,969</td>\n",
       "      <td>2,027</td>\n",
       "      <td>$2,461,252</td>\n",
       "      <td>2,027</td>\n",
       "      <td>Jan 16, 2004</td>\n",
       "      <td>Walt Disney Studios Motion Pictures</td>\n",
       "    </tr>\n",
       "  </tbody>\n",
       "</table>\n",
       "</div>"
      ],
      "text/plain": [
       "  Rank                                              Title Gross Income  \\\n",
       "0    1                 High School Musical 3: Senior Year  $90,559,416   \n",
       "1    2                          Hannah Montana: The Movie  $79,576,189   \n",
       "2    3  Hannah Montana and Miley Cyrus: Best of Both W...  $65,281,781   \n",
       "3    4                           The Lizzie McGuire Movie  $42,734,455   \n",
       "4    5                               Recess: School's Out  $36,706,141   \n",
       "5    6                                   Doug's 1st Movie  $19,440,089   \n",
       "6    7          Jonas Brothers: The 3D Concert Experience  $19,162,740   \n",
       "7    8                                      Teacher's Pet   $6,491,969   \n",
       "\n",
       "  Max Theaters Opening Earnings Opening Num Theaters Release Dates  \\\n",
       "0        3,626      $42,030,184                3,626  Oct 24, 2008   \n",
       "1        3,231      $32,324,487                3,231  Apr 10, 2009   \n",
       "2          687      $31,117,834                  687   Feb 1, 2008   \n",
       "3        2,825      $17,338,755                2,825   May 2, 2003   \n",
       "4        2,630      $10,065,873                2,630  Feb 16, 2001   \n",
       "5        2,268       $4,470,489                2,268  Mar 26, 1999   \n",
       "6        1,276      $12,510,374                1,276  Feb 27, 2009   \n",
       "7        2,027       $2,461,252                2,027  Jan 16, 2004   \n",
       "\n",
       "                                Studio  \n",
       "0  Walt Disney Studios Motion Pictures  \n",
       "1  Walt Disney Studios Motion Pictures  \n",
       "2  Walt Disney Studios Motion Pictures  \n",
       "3  Walt Disney Studios Motion Pictures  \n",
       "4  Walt Disney Studios Motion Pictures  \n",
       "5  Walt Disney Studios Motion Pictures  \n",
       "6  Walt Disney Studios Motion Pictures  \n",
       "7  Walt Disney Studios Motion Pictures  "
      ]
     },
     "execution_count": 7,
     "metadata": {},
     "output_type": "execute_result"
    }
   ],
   "source": [
    "df = pd.DataFrame({'Rank': ranks, 'Title': titles, 'Gross Income': gross, 'Max Theaters': max_theaters, 'Opening Earnings': opening_earnings, 'Opening Num Theaters': opening_num_thtrs, 'Release Dates': release_dates, 'Studio': studios})\n",
    "df"
   ]
  },
  {
   "cell_type": "code",
   "execution_count": 8,
   "metadata": {},
   "outputs": [],
   "source": [
    "df.to_csv('datasets/disney_channel_movies.csv')"
   ]
  }
 ],
 "metadata": {
  "kernelspec": {
   "display_name": "stat386",
   "language": "python",
   "name": "python3"
  },
  "language_info": {
   "codemirror_mode": {
    "name": "ipython",
    "version": 3
   },
   "file_extension": ".py",
   "mimetype": "text/x-python",
   "name": "python",
   "nbconvert_exporter": "python",
   "pygments_lexer": "ipython3",
   "version": "3.12.5"
  }
 },
 "nbformat": 4,
 "nbformat_minor": 2
}
