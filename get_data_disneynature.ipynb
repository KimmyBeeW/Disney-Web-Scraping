{
 "cells": [
  {
   "cell_type": "code",
   "execution_count": 1,
   "metadata": {},
   "outputs": [],
   "source": [
    "import os\n",
    "from dotenv import load_dotenv\n",
    "import pandas as pd\n",
    "import numpy as np\n",
    "import requests\n",
    "from bs4 import BeautifulSoup\n",
    "from RequestGuard import RequestGuard as RG"
   ]
  },
  {
   "cell_type": "code",
   "execution_count": 2,
   "metadata": {},
   "outputs": [
    {
     "name": "stdout",
     "output_type": "stream",
     "text": [
      "robot.txt allows scraping for this page\n"
     ]
    }
   ],
   "source": [
    "url = \"https://www.boxofficemojo.com/brand/bn3245537794/\"\n",
    "rg = RG(url)\n",
    "if rg.can_follow_link(url):\n",
    "    print(\"robot.txt allows scraping for this page\") "
   ]
  },
  {
   "cell_type": "code",
   "execution_count": 3,
   "metadata": {},
   "outputs": [
    {
     "name": "stdout",
     "output_type": "stream",
     "text": [
      "200\n"
     ]
    }
   ],
   "source": [
    "r = requests.get(url)\n",
    "print(r.status_code)"
   ]
  },
  {
   "cell_type": "code",
   "execution_count": 4,
   "metadata": {},
   "outputs": [],
   "source": [
    "soup = BeautifulSoup(r.text)\n",
    "# print(soup)\n",
    "container = soup.find('div', {'class': 'a-section imdb-scroll-table mojo-gutter'})\n",
    "# print(container)"
   ]
  },
  {
   "cell_type": "code",
   "execution_count": 5,
   "metadata": {},
   "outputs": [],
   "source": [
    "items = container.find_all('tr')\n",
    "ranks, titles, gross, max_theaters, opening_earnings, opening_num_thtrs, release_dates, studios = [], [], [], [], [], [], [], []\n",
    "for row in items[1:]:\n",
    "    rank = row.find('td', class_='mojo-field-type-rank').text\n",
    "    ranks.append(rank)\n",
    "    title = row.find('td', class_='mojo-field-type-release').text\n",
    "    titles.append(title)\n",
    "    life_gross = row.find('td', class_='a-text-right mojo-field-type-money mojo-sort-column mojo-estimatable').text\n",
    "    gross.append(life_gross)\n",
    "    max_theater = row.find('td', class_='a-text-right mojo-field-type-positive_integer').text\n",
    "    max_theaters.append(max_theater)\n",
    "    opening = row.find('td', class_='a-text-right mojo-field-type-money').text\n",
    "    opening_earnings.append(opening)\n",
    "    opening_num_thtr = row.find('td', class_='a-text-right mojo-field-type-positive_integer').text\n",
    "    opening_num_thtrs.append(opening_num_thtr)\n",
    "    release_date = row.find('td', class_='mojo-field-type-date').text\n",
    "    release_dates.append(release_date)\n",
    "    studio = row.find('td', class_='mojo-field-type-release_studios').text.strip('\\n')\n",
    "    studios.append(studio)"
   ]
  },
  {
   "cell_type": "code",
   "execution_count": 6,
   "metadata": {},
   "outputs": [
    {
     "data": {
      "text/html": [
       "<div>\n",
       "<style scoped>\n",
       "    .dataframe tbody tr th:only-of-type {\n",
       "        vertical-align: middle;\n",
       "    }\n",
       "\n",
       "    .dataframe tbody tr th {\n",
       "        vertical-align: top;\n",
       "    }\n",
       "\n",
       "    .dataframe thead th {\n",
       "        text-align: right;\n",
       "    }\n",
       "</style>\n",
       "<table border=\"1\" class=\"dataframe\">\n",
       "  <thead>\n",
       "    <tr style=\"text-align: right;\">\n",
       "      <th></th>\n",
       "      <th>Rank</th>\n",
       "      <th>Title</th>\n",
       "      <th>Gross Income</th>\n",
       "      <th>Max Theaters</th>\n",
       "      <th>Opening Earnings</th>\n",
       "      <th>Opening Num Theaters</th>\n",
       "      <th>Release Dates</th>\n",
       "      <th>Studio</th>\n",
       "    </tr>\n",
       "  </thead>\n",
       "  <tbody>\n",
       "    <tr>\n",
       "      <th>0</th>\n",
       "      <td>1</td>\n",
       "      <td>Earth</td>\n",
       "      <td>$32,011,576</td>\n",
       "      <td>1,804</td>\n",
       "      <td>$8,825,760</td>\n",
       "      <td>1,804</td>\n",
       "      <td>Apr 22, 2009</td>\n",
       "      <td>Walt Disney Studios Motion Pictures</td>\n",
       "    </tr>\n",
       "    <tr>\n",
       "      <th>1</th>\n",
       "      <td>2</td>\n",
       "      <td>Chimpanzee</td>\n",
       "      <td>$28,972,764</td>\n",
       "      <td>1,567</td>\n",
       "      <td>$10,673,748</td>\n",
       "      <td>1,567</td>\n",
       "      <td>Apr 20, 2012</td>\n",
       "      <td>Walt Disney Studios Motion Pictures</td>\n",
       "    </tr>\n",
       "    <tr>\n",
       "      <th>2</th>\n",
       "      <td>3</td>\n",
       "      <td>Oceans</td>\n",
       "      <td>$19,422,319</td>\n",
       "      <td>1,232</td>\n",
       "      <td>$6,058,958</td>\n",
       "      <td>1,232</td>\n",
       "      <td>Apr 22, 2010</td>\n",
       "      <td>Walt Disney Studios Motion Pictures</td>\n",
       "    </tr>\n",
       "    <tr>\n",
       "      <th>3</th>\n",
       "      <td>4</td>\n",
       "      <td>Bears</td>\n",
       "      <td>$17,780,194</td>\n",
       "      <td>1,790</td>\n",
       "      <td>$4,776,267</td>\n",
       "      <td>1,790</td>\n",
       "      <td>Apr 18, 2014</td>\n",
       "      <td>Walt Disney Studios Motion Pictures</td>\n",
       "    </tr>\n",
       "    <tr>\n",
       "      <th>4</th>\n",
       "      <td>5</td>\n",
       "      <td>Monkey Kingdom</td>\n",
       "      <td>$16,432,322</td>\n",
       "      <td>2,012</td>\n",
       "      <td>$4,577,861</td>\n",
       "      <td>2,012</td>\n",
       "      <td>Apr 17, 2015</td>\n",
       "      <td>Walt Disney Studios Motion Pictures</td>\n",
       "    </tr>\n",
       "    <tr>\n",
       "      <th>5</th>\n",
       "      <td>6</td>\n",
       "      <td>African Cats</td>\n",
       "      <td>$15,428,747</td>\n",
       "      <td>1,224</td>\n",
       "      <td>$6,003,200</td>\n",
       "      <td>1,224</td>\n",
       "      <td>Apr 22, 2011</td>\n",
       "      <td>Walt Disney Studios Motion Pictures</td>\n",
       "    </tr>\n",
       "    <tr>\n",
       "      <th>6</th>\n",
       "      <td>7</td>\n",
       "      <td>Born in China</td>\n",
       "      <td>$13,873,211</td>\n",
       "      <td>1,508</td>\n",
       "      <td>$4,790,367</td>\n",
       "      <td>1,508</td>\n",
       "      <td>Apr 21, 2017</td>\n",
       "      <td>Walt Disney Studios Motion Pictures</td>\n",
       "    </tr>\n",
       "    <tr>\n",
       "      <th>7</th>\n",
       "      <td>8</td>\n",
       "      <td>Penguins</td>\n",
       "      <td>$7,699,452</td>\n",
       "      <td>1,815</td>\n",
       "      <td>$2,282,593</td>\n",
       "      <td>1,815</td>\n",
       "      <td>Apr 17, 2019</td>\n",
       "      <td>Walt Disney Studios Motion Pictures</td>\n",
       "    </tr>\n",
       "  </tbody>\n",
       "</table>\n",
       "</div>"
      ],
      "text/plain": [
       "  Rank           Title Gross Income Max Theaters Opening Earnings  \\\n",
       "0    1           Earth  $32,011,576        1,804       $8,825,760   \n",
       "1    2      Chimpanzee  $28,972,764        1,567      $10,673,748   \n",
       "2    3          Oceans  $19,422,319        1,232       $6,058,958   \n",
       "3    4           Bears  $17,780,194        1,790       $4,776,267   \n",
       "4    5  Monkey Kingdom  $16,432,322        2,012       $4,577,861   \n",
       "5    6    African Cats  $15,428,747        1,224       $6,003,200   \n",
       "6    7   Born in China  $13,873,211        1,508       $4,790,367   \n",
       "7    8        Penguins   $7,699,452        1,815       $2,282,593   \n",
       "\n",
       "  Opening Num Theaters Release Dates                               Studio  \n",
       "0                1,804  Apr 22, 2009  Walt Disney Studios Motion Pictures  \n",
       "1                1,567  Apr 20, 2012  Walt Disney Studios Motion Pictures  \n",
       "2                1,232  Apr 22, 2010  Walt Disney Studios Motion Pictures  \n",
       "3                1,790  Apr 18, 2014  Walt Disney Studios Motion Pictures  \n",
       "4                2,012  Apr 17, 2015  Walt Disney Studios Motion Pictures  \n",
       "5                1,224  Apr 22, 2011  Walt Disney Studios Motion Pictures  \n",
       "6                1,508  Apr 21, 2017  Walt Disney Studios Motion Pictures  \n",
       "7                1,815  Apr 17, 2019  Walt Disney Studios Motion Pictures  "
      ]
     },
     "execution_count": 6,
     "metadata": {},
     "output_type": "execute_result"
    }
   ],
   "source": [
    "df = pd.DataFrame({'Rank': ranks, 'Title': titles, 'Gross Income': gross, 'Max Theaters': max_theaters, 'Opening Earnings': opening_earnings, 'Opening Num Theaters': opening_num_thtrs, 'Release Dates': release_dates, 'Studio': studios})\n",
    "df"
   ]
  },
  {
   "cell_type": "code",
   "execution_count": 7,
   "metadata": {},
   "outputs": [],
   "source": [
    "df.to_csv('datasets/disneynature_movies.csv')"
   ]
  }
 ],
 "metadata": {
  "kernelspec": {
   "display_name": "stat386",
   "language": "python",
   "name": "python3"
  },
  "language_info": {
   "codemirror_mode": {
    "name": "ipython",
    "version": 3
   },
   "file_extension": ".py",
   "mimetype": "text/x-python",
   "name": "python",
   "nbconvert_exporter": "python",
   "pygments_lexer": "ipython3",
   "version": "3.12.5"
  }
 },
 "nbformat": 4,
 "nbformat_minor": 2
}
