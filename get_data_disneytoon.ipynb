{
 "cells": [
  {
   "cell_type": "code",
   "execution_count": 4,
   "metadata": {},
   "outputs": [],
   "source": [
    "import os\n",
    "from dotenv import load_dotenv\n",
    "import pandas as pd\n",
    "import numpy as np\n",
    "import requests\n",
    "from bs4 import BeautifulSoup\n",
    "from RequestGuard import RequestGuard as RG"
   ]
  },
  {
   "cell_type": "code",
   "execution_count": 5,
   "metadata": {},
   "outputs": [
    {
     "name": "stdout",
     "output_type": "stream",
     "text": [
      "robot.txt allows scraping for this page\n"
     ]
    }
   ],
   "source": [
    "url = \"https://www.boxofficemojo.com/brand/bn4185061890/\"\n",
    "rg = RG(url)\n",
    "if rg.can_follow_link(url):\n",
    "    print(\"robot.txt allows scraping for this page\") "
   ]
  },
  {
   "cell_type": "code",
   "execution_count": 6,
   "metadata": {},
   "outputs": [
    {
     "name": "stdout",
     "output_type": "stream",
     "text": [
      "200\n"
     ]
    }
   ],
   "source": [
    "r = requests.get(url)\n",
    "print(r.status_code)"
   ]
  },
  {
   "cell_type": "code",
   "execution_count": 7,
   "metadata": {},
   "outputs": [],
   "source": [
    "soup = BeautifulSoup(r.text)\n",
    "# print(soup)\n",
    "container = soup.find('div', {'class': 'a-section imdb-scroll-table mojo-gutter'})\n",
    "# print(container)"
   ]
  },
  {
   "cell_type": "code",
   "execution_count": 8,
   "metadata": {},
   "outputs": [],
   "source": [
    "items = container.find_all('tr')\n",
    "ranks, titles, gross, max_theaters, opening_earnings, opening_num_thtrs, release_dates, studios = [], [], [], [], [], [], [], []\n",
    "for row in items[1:]:\n",
    "    rank = row.find('td', class_='mojo-field-type-rank').text\n",
    "    ranks.append(rank)\n",
    "    title = row.find('td', class_='mojo-field-type-release').text\n",
    "    titles.append(title)\n",
    "    life_gross = row.find('td', class_='a-text-right mojo-field-type-money mojo-sort-column mojo-estimatable').text\n",
    "    gross.append(life_gross)\n",
    "    max_theater = row.find('td', class_='a-text-right mojo-field-type-positive_integer').text\n",
    "    max_theaters.append(max_theater)\n",
    "    opening = row.find('td', class_='a-text-right mojo-field-type-money').text\n",
    "    opening_earnings.append(opening)\n",
    "    opening_num_thtr = row.find('td', class_='a-text-right mojo-field-type-positive_integer').text\n",
    "    opening_num_thtrs.append(opening_num_thtr)\n",
    "    release_date = row.find('td', class_='mojo-field-type-date').text\n",
    "    release_dates.append(release_date)\n",
    "    studio = row.find('td', class_='mojo-field-type-release_studios').text.strip('\\n')\n",
    "    studios.append(studio)"
   ]
  },
  {
   "cell_type": "code",
   "execution_count": 9,
   "metadata": {},
   "outputs": [
    {
     "data": {
      "text/html": [
       "<div>\n",
       "<style scoped>\n",
       "    .dataframe tbody tr th:only-of-type {\n",
       "        vertical-align: middle;\n",
       "    }\n",
       "\n",
       "    .dataframe tbody tr th {\n",
       "        vertical-align: top;\n",
       "    }\n",
       "\n",
       "    .dataframe thead th {\n",
       "        text-align: right;\n",
       "    }\n",
       "</style>\n",
       "<table border=\"1\" class=\"dataframe\">\n",
       "  <thead>\n",
       "    <tr style=\"text-align: right;\">\n",
       "      <th></th>\n",
       "      <th>Rank</th>\n",
       "      <th>Title</th>\n",
       "      <th>Gross Income</th>\n",
       "      <th>Max Theaters</th>\n",
       "      <th>Opening Earnings</th>\n",
       "      <th>Opening Num Theaters</th>\n",
       "      <th>Release Dates</th>\n",
       "      <th>Studio</th>\n",
       "    </tr>\n",
       "  </thead>\n",
       "  <tbody>\n",
       "    <tr>\n",
       "      <th>0</th>\n",
       "      <td>1</td>\n",
       "      <td>Planes</td>\n",
       "      <td>$90,288,712</td>\n",
       "      <td>3,716</td>\n",
       "      <td>$22,232,291</td>\n",
       "      <td>3,716</td>\n",
       "      <td>Aug 9, 2013</td>\n",
       "      <td>Walt Disney Studios Motion Pictures</td>\n",
       "    </tr>\n",
       "    <tr>\n",
       "      <th>1</th>\n",
       "      <td>2</td>\n",
       "      <td>Planes: Fire &amp; Rescue</td>\n",
       "      <td>$59,165,787</td>\n",
       "      <td>3,839</td>\n",
       "      <td>$17,509,407</td>\n",
       "      <td>3,839</td>\n",
       "      <td>Jul 18, 2014</td>\n",
       "      <td>Walt Disney Studios Motion Pictures</td>\n",
       "    </tr>\n",
       "    <tr>\n",
       "      <th>2</th>\n",
       "      <td>3</td>\n",
       "      <td>The Jungle Book 2</td>\n",
       "      <td>$47,901,582</td>\n",
       "      <td>2,815</td>\n",
       "      <td>$11,441,733</td>\n",
       "      <td>2,815</td>\n",
       "      <td>Feb 14, 2003</td>\n",
       "      <td>Walt Disney Studios Motion Pictures</td>\n",
       "    </tr>\n",
       "    <tr>\n",
       "      <th>3</th>\n",
       "      <td>4</td>\n",
       "      <td>The Tigger Movie</td>\n",
       "      <td>$45,554,533</td>\n",
       "      <td>2,818</td>\n",
       "      <td>$9,427,532</td>\n",
       "      <td>2,818</td>\n",
       "      <td>Feb 11, 2000</td>\n",
       "      <td>Walt Disney Studios Motion Pictures</td>\n",
       "    </tr>\n",
       "    <tr>\n",
       "      <th>4</th>\n",
       "      <td>5</td>\n",
       "      <td>A Goofy Movie</td>\n",
       "      <td>$35,348,597</td>\n",
       "      <td>2,176</td>\n",
       "      <td>$6,129,557</td>\n",
       "      <td>2,176</td>\n",
       "      <td>Apr 7, 1995</td>\n",
       "      <td>Walt Disney Studios Motion Pictures</td>\n",
       "    </tr>\n",
       "    <tr>\n",
       "      <th>5</th>\n",
       "      <td>6</td>\n",
       "      <td>Piglet's Big Movie</td>\n",
       "      <td>$23,103,423</td>\n",
       "      <td>2,084</td>\n",
       "      <td>$6,097,758</td>\n",
       "      <td>2,084</td>\n",
       "      <td>Mar 21, 2003</td>\n",
       "      <td>Walt Disney Studios Motion Pictures</td>\n",
       "    </tr>\n",
       "    <tr>\n",
       "      <th>6</th>\n",
       "      <td>7</td>\n",
       "      <td>DuckTales the Movie: Treasure of the Lost Lamp</td>\n",
       "      <td>$18,115,724</td>\n",
       "      <td>1,558</td>\n",
       "      <td>$3,870,366</td>\n",
       "      <td>1,558</td>\n",
       "      <td>Aug 3, 1990</td>\n",
       "      <td>Walt Disney Studios Motion Pictures</td>\n",
       "    </tr>\n",
       "    <tr>\n",
       "      <th>7</th>\n",
       "      <td>8</td>\n",
       "      <td>Pooh's Heffalump Movie</td>\n",
       "      <td>$18,098,433</td>\n",
       "      <td>2,529</td>\n",
       "      <td>$5,805,559</td>\n",
       "      <td>2,529</td>\n",
       "      <td>Feb 11, 2005</td>\n",
       "      <td>Walt Disney Studios Motion Pictures</td>\n",
       "    </tr>\n",
       "  </tbody>\n",
       "</table>\n",
       "</div>"
      ],
      "text/plain": [
       "  Rank                                           Title Gross Income  \\\n",
       "0    1                                          Planes  $90,288,712   \n",
       "1    2                           Planes: Fire & Rescue  $59,165,787   \n",
       "2    3                               The Jungle Book 2  $47,901,582   \n",
       "3    4                                The Tigger Movie  $45,554,533   \n",
       "4    5                                   A Goofy Movie  $35,348,597   \n",
       "5    6                              Piglet's Big Movie  $23,103,423   \n",
       "6    7  DuckTales the Movie: Treasure of the Lost Lamp  $18,115,724   \n",
       "7    8                          Pooh's Heffalump Movie  $18,098,433   \n",
       "\n",
       "  Max Theaters Opening Earnings Opening Num Theaters Release Dates  \\\n",
       "0        3,716      $22,232,291                3,716   Aug 9, 2013   \n",
       "1        3,839      $17,509,407                3,839  Jul 18, 2014   \n",
       "2        2,815      $11,441,733                2,815  Feb 14, 2003   \n",
       "3        2,818       $9,427,532                2,818  Feb 11, 2000   \n",
       "4        2,176       $6,129,557                2,176   Apr 7, 1995   \n",
       "5        2,084       $6,097,758                2,084  Mar 21, 2003   \n",
       "6        1,558       $3,870,366                1,558   Aug 3, 1990   \n",
       "7        2,529       $5,805,559                2,529  Feb 11, 2005   \n",
       "\n",
       "                                Studio  \n",
       "0  Walt Disney Studios Motion Pictures  \n",
       "1  Walt Disney Studios Motion Pictures  \n",
       "2  Walt Disney Studios Motion Pictures  \n",
       "3  Walt Disney Studios Motion Pictures  \n",
       "4  Walt Disney Studios Motion Pictures  \n",
       "5  Walt Disney Studios Motion Pictures  \n",
       "6  Walt Disney Studios Motion Pictures  \n",
       "7  Walt Disney Studios Motion Pictures  "
      ]
     },
     "execution_count": 9,
     "metadata": {},
     "output_type": "execute_result"
    }
   ],
   "source": [
    "df = pd.DataFrame({'Rank': ranks, 'Title': titles, 'Gross Income': gross, 'Max Theaters': max_theaters, 'Opening Earnings': opening_earnings, 'Opening Num Theaters': opening_num_thtrs, 'Release Dates': release_dates, 'Studio': studios})\n",
    "df"
   ]
  },
  {
   "cell_type": "code",
   "execution_count": 10,
   "metadata": {},
   "outputs": [],
   "source": [
    "df.to_csv('disneytoon_movies.csv')"
   ]
  }
 ],
 "metadata": {
  "kernelspec": {
   "display_name": "stat386",
   "language": "python",
   "name": "python3"
  },
  "language_info": {
   "codemirror_mode": {
    "name": "ipython",
    "version": 3
   },
   "file_extension": ".py",
   "mimetype": "text/x-python",
   "name": "python",
   "nbconvert_exporter": "python",
   "pygments_lexer": "ipython3",
   "version": "3.12.5"
  }
 },
 "nbformat": 4,
 "nbformat_minor": 2
}
